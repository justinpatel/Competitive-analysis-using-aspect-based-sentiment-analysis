{
  "nbformat": 4,
  "nbformat_minor": 0,
  "metadata": {
    "colab": {
      "name": "aws reviews absa.ipynb",
      "provenance": []
    },
    "kernelspec": {
      "name": "python3",
      "display_name": "Python 3"
    },
    "language_info": {
      "name": "python"
    }
  },
  "cells": [
    {
      "cell_type": "code",
      "execution_count": null,
      "metadata": {
        "id": "np-894skW5s9"
      },
      "outputs": [],
      "source": [
        "# loading a library\n",
        "import pandas as pd"
      ]
    },
    {
      "cell_type": "code",
      "source": [
        "# reading a dataset\n",
        "df = pd.read_excel('/content/aws.xlsx')"
      ],
      "metadata": {
        "id": "HZ38MNvGW-V3"
      },
      "execution_count": null,
      "outputs": []
    },
    {
      "cell_type": "code",
      "source": [
        "# dropping the unnecessary columns\n",
        "df.drop(columns=['small','ui','ui1','ui2','ui3','small1','tiptextwrap','score-description','review-date','small2','review-profile-defined','score-description1','small3','review-copy-sub-header','small4'], inplace=True)"
      ],
      "metadata": {
        "id": "ZfHVCOSDXUty"
      },
      "execution_count": null,
      "outputs": []
    },
    {
      "cell_type": "code",
      "source": [
        "# converting all reviews from different columns to one column\n",
        "reviews = df.stack().reset_index()[0]"
      ],
      "metadata": {
        "id": "3pzKlzgJa72w"
      },
      "execution_count": null,
      "outputs": []
    },
    {
      "cell_type": "code",
      "source": [
        "# Removing unnecessary words\n",
        "reviews = reviews[~reviews.str.contains('Pros') & ~reviews.str.contains('Cons')]"
      ],
      "metadata": {
        "id": "8h_gqEbVciyx"
      },
      "execution_count": null,
      "outputs": []
    },
    {
      "cell_type": "code",
      "source": [
        "reviews"
      ],
      "metadata": {
        "colab": {
          "base_uri": "https://localhost:8080/"
        },
        "id": "0ULh-C6Vmgk4",
        "outputId": "db21606f-c444-418b-ad7d-61febe2106db"
      },
      "execution_count": null,
      "outputs": [
        {
          "output_type": "execute_result",
          "data": {
            "text/plain": [
              "0                                                    0.0\n",
              "1                                     AWS we love Lambda\n",
              "2                                                    1.0\n",
              "3      Multiple locations and databases . Some servic...\n",
              "4                                                    3.0\n",
              "                             ...                        \n",
              "321                            Great Cloud Based Service\n",
              "322                                                244.0\n",
              "323    Adding AWS allows for my company to use and ma...\n",
              "324                                                246.0\n",
              "325    You get what you pay for. Obviously the price ...\n",
              "Name: 0, Length: 326, dtype: object"
            ]
          },
          "metadata": {},
          "execution_count": 36
        }
      ]
    },
    {
      "cell_type": "code",
      "source": [
        "# saving cleaned data for future use\n",
        "reviews.to_csv('/content/aws.csv')"
      ],
      "metadata": {
        "id": "C2v8btljfoDH"
      },
      "execution_count": null,
      "outputs": []
    },
    {
      "cell_type": "code",
      "source": [
        "# load spaCy library\n",
        "import spacy\n",
        "nlp = spacy.load('en_core_web_sm')"
      ],
      "metadata": {
        "id": "xROZcNqVmwK5"
      },
      "execution_count": null,
      "outputs": []
    },
    {
      "cell_type": "code",
      "source": [
        "!pip install contractions"
      ],
      "metadata": {
        "id": "XpfcTCN6Np3-",
        "colab": {
          "base_uri": "https://localhost:8080/"
        },
        "outputId": "5f71a281-50dc-4c22-86d2-fb17bfed715e"
      },
      "execution_count": null,
      "outputs": [
        {
          "output_type": "stream",
          "name": "stdout",
          "text": [
            "Looking in indexes: https://pypi.org/simple, https://us-python.pkg.dev/colab-wheels/public/simple/\n",
            "Requirement already satisfied: contractions in /usr/local/lib/python3.7/dist-packages (0.1.72)\n",
            "Requirement already satisfied: textsearch>=0.0.21 in /usr/local/lib/python3.7/dist-packages (from contractions) (0.0.21)\n",
            "Requirement already satisfied: pyahocorasick in /usr/local/lib/python3.7/dist-packages (from textsearch>=0.0.21->contractions) (1.4.4)\n",
            "Requirement already satisfied: anyascii in /usr/local/lib/python3.7/dist-packages (from textsearch>=0.0.21->contractions) (0.3.1)\n"
          ]
        }
      ]
    },
    {
      "cell_type": "code",
      "source": [
        "# Load contractions library\n",
        "import contractions"
      ],
      "metadata": {
        "id": "vvhhFaK7NtmS"
      },
      "execution_count": null,
      "outputs": []
    },
    {
      "cell_type": "code",
      "source": [
        "# load nltk library\n",
        "import nltk\n",
        "nltk.download('vader_lexicon')\n",
        "from nltk.sentiment.vader import SentimentIntensityAnalyzer\n",
        "\n",
        "# define vader senitment intensity analyzer\n",
        "sia = SentimentIntensityAnalyzer()"
      ],
      "metadata": {
        "colab": {
          "base_uri": "https://localhost:8080/"
        },
        "id": "4BaZpXHxi7iN",
        "outputId": "bc1ef0e5-dd35-47d0-eab3-939cf9f9269e"
      },
      "execution_count": null,
      "outputs": [
        {
          "output_type": "stream",
          "name": "stderr",
          "text": [
            "[nltk_data] Downloading package vader_lexicon to /root/nltk_data...\n",
            "[nltk_data]   Package vader_lexicon is already up-to-date!\n"
          ]
        }
      ]
    },
    {
      "cell_type": "markdown",
      "source": [
        "Finding aspects and polarity score"
      ],
      "metadata": {
        "id": "bGR1Ok7sBhdf"
      }
    },
    {
      "cell_type": "code",
      "source": [
        "aspects = []\n",
        "descriptive_term = ''\n",
        "target = ''\n",
        "\n",
        "# iterate through each review\n",
        "for review in reviews:\n",
        "  expanded_words = []\n",
        "\n",
        "  for word in review.split():\n",
        "    # Word Contraction Expansion\n",
        "    expanded_words.append(contractions.fix(word))     # using contractions.fix to expand the shortened words\n",
        "\n",
        "  expanded_text = ' '.join(expanded_words)\n",
        "  doc = nlp(expanded_text.lower())                    # Case folding to lower case\n",
        "  \n",
        "  for sent in doc.sents:                              # Sentence Segmentation\n",
        "    sent_lemma = nlp(sent.lemma_)\n",
        "    for token in sent_lemma:                          # Lemmatization\n",
        "      # POS (part-of-speech) tagging\n",
        "      if token.dep_ == 'nsubj' and token.pos_ == 'NOUN':\n",
        "        target = token.text\n",
        "      if token.pos_ == 'ADJ':\n",
        "        prepend = ''\n",
        "        for child in token.children:\n",
        "          if child.pos_ != 'ADV':\n",
        "            continue\n",
        "          prepend += child.text + ' '\n",
        "        descriptive_term = prepend + token.text  \n",
        "        if target != '':  \n",
        "          polarity_scores = sia.polarity_scores(sent_lemma.text)      # Sentiment polarity\n",
        "          sentiment = 'positive' if polarity_scores['compound'] > 0 else 'negative' if polarity_scores['compound'] < 0 else 'neutral'   # Assigning sentiment according to score\n",
        "          aspects.append({'aspect': target,\n",
        "                        'description': descriptive_term,\n",
        "                        'compound_polarity': polarity_scores['compound'],\n",
        "                        'sentiment': sentiment})    # save it in the list"
      ],
      "metadata": {
        "id": "NxVOLCElgT-V"
      },
      "execution_count": null,
      "outputs": []
    },
    {
      "cell_type": "code",
      "source": [
        "# convert the output list into the csv file\n",
        "pd.DataFrame(aspects).to_csv('/content/aspect_vader_result.csv')"
      ],
      "metadata": {
        "id": "d6ntcz5ho9gq"
      },
      "execution_count": null,
      "outputs": []
    },
    {
      "cell_type": "markdown",
      "source": [
        "Using Textblob instead of Vader"
      ],
      "metadata": {
        "id": "HDymsoyoCQ8b"
      }
    },
    {
      "cell_type": "code",
      "source": [
        "from textblob import TextBlob"
      ],
      "metadata": {
        "id": "At-LLqhTDrVw"
      },
      "execution_count": null,
      "outputs": []
    },
    {
      "cell_type": "code",
      "source": [
        "aspects = []\n",
        "descriptive_term = ''\n",
        "target = ''\n",
        "\n",
        "for review in reviews:\n",
        "  expanded_words = []\n",
        "\n",
        "  for word in review.split():\n",
        "    expanded_words.append(contractions.fix(word))\n",
        "\n",
        "  expanded_text = ' '.join(expanded_words)\n",
        "  doc = nlp(expanded_text.lower())\n",
        "  \n",
        "  for sent in doc.sents:\n",
        "    for token in sent:\n",
        "      if token.dep_ == 'nsubj' and token.pos_ == 'NOUN':\n",
        "        target = token.text\n",
        "      if token.pos_ == 'ADJ':\n",
        "        prepend = ''\n",
        "        for child in token.children:\n",
        "          if child.pos_ != 'ADV':\n",
        "            continue\n",
        "          prepend += child.text + ' '\n",
        "        descriptive_term = prepend + token.text  \n",
        "        if target != '':\n",
        "          polarity_scores = TextBlob(sent.text).polarity    # Everything else is same except here\n",
        "          sentiment = 'positive' if polarity_scores > 0 else 'negative' if polarity_scores < 0 else 'neutral'\n",
        "          aspects.append({'aspect': target,\n",
        "                        'description': descriptive_term,\n",
        "                        'polarity_score': polarity_scores,\n",
        "                        'sentiment': sentiment})"
      ],
      "metadata": {
        "id": "h6tEsGBNOjDl"
      },
      "execution_count": null,
      "outputs": []
    },
    {
      "cell_type": "code",
      "source": [
        "pd.DataFrame(aspects).to_csv('/content/aspect_textblob_result.csv')"
      ],
      "metadata": {
        "id": "2QV_WHzoOnbJ"
      },
      "execution_count": null,
      "outputs": []
    },
    {
      "cell_type": "code",
      "source": [
        "df_vader = pd.read_csv('/content/aspect_vader_result.csv')\n",
        "df_vader['sentiment'].value_counts().plot(kind='bar', title = 'Vader')"
      ],
      "metadata": {
        "colab": {
          "base_uri": "https://localhost:8080/",
          "height": 333
        },
        "id": "s2CWVtzzPzNy",
        "outputId": "fa3a9836-c83d-4af9-d2f9-db05fa840212"
      },
      "execution_count": null,
      "outputs": [
        {
          "output_type": "execute_result",
          "data": {
            "text/plain": [
              "<matplotlib.axes._subplots.AxesSubplot at 0x7ff106a22590>"
            ]
          },
          "metadata": {},
          "execution_count": 24
        },
        {
          "output_type": "display_data",
          "data": {
            "text/plain": [
              "<Figure size 432x288 with 1 Axes>"
            ],
            "image/png": "[encoded data removed]"
          },
          "metadata": {
            "needs_background": "light"
          }
        }
      ]
    },
    {
      "cell_type": "code",
      "source": [
        "df_textblob = pd.read_csv('/content/aspect_textblob_result.csv')\n",
        "df_textblob['sentiment'].value_counts().plot(kind='bar', title = 'Vader')"
      ],
      "metadata": {
        "colab": {
          "base_uri": "https://localhost:8080/",
          "height": 333
        },
        "id": "ivVDzLXxTCCt",
        "outputId": "80bbcac3-d5dc-4655-cb7a-8f541227bd67"
      },
      "execution_count": null,
      "outputs": [
        {
          "output_type": "execute_result",
          "data": {
            "text/plain": [
              "<matplotlib.axes._subplots.AxesSubplot at 0x7ff1069f6bd0>"
            ]
          },
          "metadata": {},
          "execution_count": 25
        },
        {
          "output_type": "display_data",
          "data": {
            "text/plain": [
              "<Figure size 432x288 with 1 Axes>"
            ],
            "image/png": "[encoded data removed]"
          },
          "metadata": {
            "needs_background": "light"
          }
        }
      ]
    },
    {
      "cell_type": "code",
      "source": [
        "print(df_vader['sentiment'].value_counts())"
      ],
      "metadata": {
        "colab": {
          "base_uri": "https://localhost:8080/"
        },
        "id": "zGhpgpigSSC6",
        "outputId": "505da5f6-32e8-4833-b8e0-8d6d6199f389"
      },
      "execution_count": null,
      "outputs": [
        {
          "output_type": "stream",
          "name": "stdout",
          "text": [
            "positive    776\n",
            "neutral     188\n",
            "negative     38\n",
            "Name: sentiment, dtype: int64\n"
          ]
        }
      ]
    },
    {
      "cell_type": "code",
      "source": [
        "df_textblob['sentiment'].value_counts()"
      ],
      "metadata": {
        "colab": {
          "base_uri": "https://localhost:8080/"
        },
        "id": "Pmwo3EIySrrR",
        "outputId": "31db0cbc-769d-4ece-d774-89ed41a608f1"
      },
      "execution_count": null,
      "outputs": [
        {
          "output_type": "execute_result",
          "data": {
            "text/plain": [
              "positive    760\n",
              "neutral     130\n",
              "negative     68\n",
              "Name: sentiment, dtype: int64"
            ]
          },
          "metadata": {},
          "execution_count": 27
        }
      ]
    },
    {
      "cell_type": "code",
      "source": [
        "df_vader.groupby(by = 'aspect')['compound_polarity'].mean().to_csv(\"output.csv\")"
      ],
      "metadata": {
        "id": "yK_7eMLxVB4M"
      },
      "execution_count": null,
      "outputs": []
    }
  ]
}
